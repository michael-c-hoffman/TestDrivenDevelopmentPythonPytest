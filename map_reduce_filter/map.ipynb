{
 "cells": [
  {
   "cell_type": "code",
   "execution_count": 12,
   "id": "4d614226-c89e-4764-8d4a-5d611e9a91f0",
   "metadata": {},
   "outputs": [
    {
     "name": "stdout",
     "output_type": "stream",
     "text": [
      "INFO:root:cubes={1, 1000, 729, 27, 125}\n",
      "INFO:root:[2, 6, 12, 18]\n"
     ]
    }
   ],
   "source": [
    "import logging\n",
    "import sys\n",
    "\n",
    "logging.basicConfig(stream=sys.stdout, level=logging.INFO)\n",
    "\n",
    "# Test\n",
    "logger = logging.getLogger()\n",
    "\n",
    "def cube(number: int) -> int:\n",
    "    return number ** 3\n",
    "\n",
    "logger.info(f'cubes={set(list(map(cube, [1,3,5,9,10,3])))}')\n",
    "logger.info(f'{list(filter(lambda x: (x % 2 == 0), [1,2,6,9,12,13,18,21]))}')"
   ]
  },
  {
   "cell_type": "code",
   "execution_count": null,
   "id": "547e377b-d689-4558-a163-fcdea739ca5c",
   "metadata": {},
   "outputs": [],
   "source": []
  }
 ],
 "metadata": {
  "kernelspec": {
   "display_name": "Python 3 (ipykernel)",
   "language": "python",
   "name": "python3"
  },
  "language_info": {
   "codemirror_mode": {
    "name": "ipython",
    "version": 3
   },
   "file_extension": ".py",
   "mimetype": "text/x-python",
   "name": "python",
   "nbconvert_exporter": "python",
   "pygments_lexer": "ipython3",
   "version": "3.10.4"
  }
 },
 "nbformat": 4,
 "nbformat_minor": 5
}
